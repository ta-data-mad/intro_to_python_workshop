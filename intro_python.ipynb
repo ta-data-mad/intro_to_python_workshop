{
 "cells": [
  {
   "cell_type": "markdown",
   "metadata": {},
   "source": [
    "# Intro to Python"
   ]
  },
  {
   "cell_type": "markdown",
   "metadata": {},
   "source": [
    "#### 1) Programming Language\n",
    "A language composed of a set of instructions, used to convey instructions to a computer. It is used to organize algorithms in a human comprehensible way, that will be compiled or interpreted into machine language (the core set of instructions of a processor.\n",
    "Python is a multiparadigm high level programming language."
   ]
  },
  {
   "cell_type": "markdown",
   "metadata": {},
   "source": [
    "#### 2) Data Type - Variables"
   ]
  },
  {
   "cell_type": "code",
   "execution_count": 1,
   "metadata": {
    "scrolled": true
   },
   "outputs": [
    {
     "name": "stdout",
     "output_type": "stream",
     "text": [
      "Hello World\n",
      "Hello World\n",
      "<class 'str'>\n",
      "<class 'list'> <class 'list'> <class 'list'>\n",
      "[]\n",
      "<class 'bool'> <class 'bool'>\n"
     ]
    }
   ],
   "source": [
    "# Print is a basic function used to display information on a console interface.\n",
    "print(\"Hello World\")\n",
    "\n",
    "# Variables are declared with their name and asigned with '=' sign.\n",
    "welcome = \"Hello World\"\n",
    "print(welcome)\n",
    "\n",
    "# Calling variables that were not declared will result in an error.\n",
    "# print(hola) # we get an error\n",
    "\n",
    "# The type() function allows us to check the type of a variable.\n",
    "print(type(welcome))\n",
    "\n",
    "# Lists are ordered groups of variables.\n",
    "numbers = [1, 2, 3, 4]\n",
    "strings = [\"a\", \"b\", \"c\", \"d\"]\n",
    "mixed = [1, \"a\", \"c\"]\n",
    "empty_list = []\n",
    "print(type(numbers), type(strings), type(mixed))\n",
    "print(empty_list)\n",
    "\n",
    "# Dictionaries are containers for {key:value} pairs. Keys may not repeat in the same dictionary\n",
    "grades_course = {\"ana\": 9, \"joaquin\": 8, \"leo\": 7}\n",
    "mixed_grades = {\"ana\": \"amazing\", \"joaquin\":8, \"leo\":7}\n",
    "all_year_grades = {\"ana\":[9,5,6,5], \"joaquin\":[6,7,5,7], \"leo\":[4,5,6,7]}\n",
    "grades = {10: \"Best grade\", 9: \"Second best grade\"}\n",
    "\n",
    "# Booleans: True, False\n",
    "type_true = type(True)\n",
    "type_false = type(False)\n",
    "\n",
    "print(type_true,type_false)"
   ]
  },
  {
   "cell_type": "markdown",
   "metadata": {},
   "source": [
    "#### 3) Basic Operations\n",
    "Each kind of data has a set of operations with which they may processed."
   ]
  },
  {
   "cell_type": "code",
   "execution_count": 2,
   "metadata": {},
   "outputs": [
    {
     "name": "stdout",
     "output_type": "stream",
     "text": [
      "It rains a little\n"
     ]
    }
   ],
   "source": [
    "# CONDITIONALS\n",
    "# Booleans result from the evaluation of comparation or verification of given parameters. \n",
    "# If used in conjuction with the keywords 'if', 'elif' and 'else', we may determine what will be the output\n",
    "# of our code depending on parameters\n",
    "\n",
    "# IMPORTANT: Correct identation is essencial for your code to run properly. Mind your tabs.\n",
    "\n",
    "# Imagine a sensor that outputs a value between 0 and 10 depending on the rain outside.\n",
    "\n",
    "sensor = 4\n",
    "\n",
    "if sensor == 0:\n",
    "    print(\"No rain\")\n",
    "    \n",
    "elif (sensor > 0) and (sensor < 5):\n",
    "    print(\"It rains a little\")\n",
    "    \n",
    "elif (sensor >= 5) and (sensor <= 9):\n",
    "    print(\"It rains a lot\")\n",
    "\n",
    "elif sensor == 10:\n",
    "    print(\"Danger!!\")\n",
    "    \n",
    "# Try changing the value for the sensor and checking the output"
   ]
  },
  {
   "cell_type": "markdown",
   "metadata": {},
   "source": [
    "**Keywords:**\n",
    "- if\n",
    "- elif\n",
    "- else\n",
    "- and\n",
    "- or\n",
    "- not\n",
    "\n",
    "\n",
    "**Comparators:**\n",
    "- == (equals to)\n",
    "- != (differs from)\n",
    "- \\> (greater than)\n",
    "- < (lesser than)\n",
    "- \\>= (greater or equal to)\n",
    "- <= (lesser or equal to)"
   ]
  },
  {
   "cell_type": "code",
   "execution_count": 3,
   "metadata": {},
   "outputs": [
    {
     "name": "stdout",
     "output_type": "stream",
     "text": [
      "7\n",
      "24\n",
      "7.111111111111111\n",
      "32.0\n",
      "49\n"
     ]
    }
   ],
   "source": [
    "# MATHEMATICAL OPERATIONS\n",
    "# The basic mathematical operations we are used to may be applied to data on Python\n",
    "\n",
    "print(3+4)\n",
    "multi = 3*8\n",
    "print(multi)\n",
    "a=64\n",
    "b=7\n",
    "c=9\n",
    "print(a/c)\n",
    "print(a/(c-b))\n",
    "print(b**2)"
   ]
  },
  {
   "cell_type": "markdown",
   "metadata": {},
   "source": [
    "**Math operators:**\n",
    "- \\+ (sum)\n",
    "- \\- (subtraction)\n",
    "- / (division)\n",
    "- // (integer division)\n",
    "- \\* (multiplication)\n",
    "- \\*\\* (to the power of)\n",
    "- % (modulus, remainder of integer division)"
   ]
  },
  {
   "cell_type": "code",
   "execution_count": 4,
   "metadata": {},
   "outputs": [
    {
     "name": "stdout",
     "output_type": "stream",
     "text": [
      "I n\n",
      "k h\n",
      "Iron hack\n",
      "kcahnorI\n",
      "Felipe\n",
      "Bego\n"
     ]
    }
   ],
   "source": [
    "# LIST and STRING OPERATIONS\n",
    "# We use some of the same operators as in math to operate on strings and lists.\n",
    "\n",
    "# Accessing elements through indices\n",
    "school = \"Ironhack\"\n",
    "print(school[0],school[3])\n",
    "print(school[-1],school[-4])\n",
    "print(school[:4],school[4:])\n",
    "print(school[::-1])\n",
    "\n",
    "lst = ['Felipe', 'Bego', 'Fran']\n",
    "print(lst[0])\n",
    "print(lst[1])"
   ]
  },
  {
   "cell_type": "code",
   "execution_count": 5,
   "metadata": {},
   "outputs": [
    {
     "name": "stdout",
     "output_type": "stream",
     "text": [
      "Ironhack\n",
      "IronIronIron\n",
      "8\n",
      "3\n"
     ]
    }
   ],
   "source": [
    "# Concatenating and repeating\n",
    "ir = \"Iron\"\n",
    "hk = \"hack\"\n",
    "print(ir+hk)\n",
    "print(ir*3)\n",
    "\n",
    "# Getting the lenght\n",
    "print(len(school))\n",
    "print(len(lst))"
   ]
  },
  {
   "cell_type": "markdown",
   "metadata": {},
   "source": [
    "#### 4) Loops\n",
    "Loops are sections of code encapsulated in a repeating pattern until a condition is completed"
   ]
  },
  {
   "cell_type": "code",
   "execution_count": 6,
   "metadata": {},
   "outputs": [
    {
     "name": "stdout",
     "output_type": "stream",
     "text": [
      "number: \n",
      "1\n",
      "number: \n",
      "2\n",
      "number: \n",
      "3\n",
      "number: \n",
      "4\n",
      "terminado\n",
      "[0, 50, 100]\n"
     ]
    }
   ],
   "source": [
    "# FOR\n",
    "# The most common type of loop in python, used to iterate through elements of an iterator (e.g.: list)\n",
    "\n",
    "my_list = [1, 2, 3, 4]\n",
    "\n",
    "\"\"\"print(my_list[0])\n",
    "print(my_list[1])\n",
    "print(my_list[2])\"\"\"\n",
    "\n",
    "for element in my_list:\n",
    "    print(\"number: \")\n",
    "    print(element)\n",
    "print(\"terminado\")\n",
    "\n",
    "# RANGE \n",
    "# An iterator (special list) of numbers from the 'start' to the 'stop' following a defined 'step'.\n",
    "# Sintaxis: range(start, stop, step)\n",
    "# .append() is used to add elements to the end of a list.\n",
    "\n",
    "elements = []\n",
    "for e in range(0, 101, 50):\n",
    "    elements.append(e)\n",
    "print(elements)"
   ]
  },
  {
   "cell_type": "code",
   "execution_count": 7,
   "metadata": {},
   "outputs": [
    {
     "name": "stdout",
     "output_type": "stream",
     "text": [
      "1\n",
      "2\n",
      "3\n",
      "4\n",
      "5\n",
      "6\n",
      "finished\n"
     ]
    }
   ],
   "source": [
    "# WHILE\n",
    "# Used to repeat some section of code until a condition is met. The conditional parameter must change inside the \n",
    "# while block of code to avoid infinite loops.\n",
    "# break is used to cease a loop, whether it is a while or a for.\n",
    "\n",
    "number = 0\n",
    "while number < 10:\n",
    "    number += 1\n",
    "    print(number)\n",
    "    if number > 5:\n",
    "        break\n",
    "    \n",
    "print(\"finished\")"
   ]
  },
  {
   "cell_type": "markdown",
   "metadata": {},
   "source": [
    "#### 5) Functions\n",
    "The principal element of functional programming. It is an encapsulated block of code that may be reutilized whenever we need. It may receive some parameters as input and generate an output accordingly. It is used so we don't have to repeat the same parts of code over and over again."
   ]
  },
  {
   "cell_type": "code",
   "execution_count": 8,
   "metadata": {},
   "outputs": [
    {
     "name": "stdout",
     "output_type": "stream",
     "text": [
      "Welcome Paula, you are going to have a great time in Ironhack\n",
      "Welcome Irene, you are going to have a great time in Ironhack\n",
      "Welcome Paula, you are going to have a great time in Ironhack!\n",
      "Welcome Irene, you are going to have a great time in Ironhack!\n"
     ]
    }
   ],
   "source": [
    "print(\"Welcome Paula, you are going to have a great time in Ironhack\")\n",
    "print(\"Welcome Irene, you are going to have a great time in Ironhack\")\n",
    "\n",
    "def welcome(student):\n",
    "    greeting = \"Welcome \" + student + \", you are going to have a great time in Ironhack!\"\n",
    "    return greeting\n",
    "\n",
    "print(welcome(\"Paula\"))\n",
    "print(welcome(\"Irene\"))"
   ]
  },
  {
   "cell_type": "markdown",
   "metadata": {},
   "source": [
    "#### 6) Libraries / Modules\n",
    "Libraries are groups of functions that were previously coded and are ready for our use. We don't have to invent the wheel everytime. :)"
   ]
  },
  {
   "cell_type": "code",
   "execution_count": 9,
   "metadata": {},
   "outputs": [
    {
     "name": "stdout",
     "output_type": "stream",
     "text": [
      "27.477263328068172\n",
      "3.141592653589793\n",
      "5.5\n",
      "3.0276503540974917\n"
     ]
    }
   ],
   "source": [
    "import math\n",
    "import statistics\n",
    "# Square Root\n",
    "print(math.sqrt(755))\n",
    "# Pi\n",
    "print(math.pi)\n",
    "# Mean\n",
    "print(statistics.mean([1,2,3,4,5,6,7,8,9,10]))\n",
    "# Standard Deviation\n",
    "print(statistics.stdev([1,2,3,4,5,6,7,8,9,10]))"
   ]
  },
  {
   "cell_type": "markdown",
   "metadata": {},
   "source": [
    "#### 7) Exercises\n",
    "This are a few challenged we leave you so you can practice your newly adquired skills.\n",
    "Remember the documentation, the error messages and the print function are your friends."
   ]
  },
  {
   "cell_type": "code",
   "execution_count": 10,
   "metadata": {},
   "outputs": [],
   "source": [
    "payroll = [1900, 2000, 1800, 2400, 1700, 1950, 2000, 1806, 2400, 1700]"
   ]
  },
  {
   "cell_type": "markdown",
   "metadata": {},
   "source": [
    "These are the monthly salaries for the employees of a given company.\n",
    "- How much does the company spend with salaries every month? And each year?\n",
    "- What are the highest and smallest payments?\n",
    "- What is the average salary in this company?\n",
    "- If the payroll is in dollars and we want it in euros, what is the new payment list?\n",
    "- 1 EUR = 1.09 USD"
   ]
  },
  {
   "cell_type": "code",
   "execution_count": null,
   "metadata": {},
   "outputs": [],
   "source": []
  },
  {
   "cell_type": "code",
   "execution_count": 11,
   "metadata": {},
   "outputs": [],
   "source": [
    "date = ['10/03/2016', '12/04/1964', '18/05/2002', '01/01/1801', '29/12/1988']"
   ]
  },
  {
   "cell_type": "markdown",
   "metadata": {},
   "source": [
    "Given a list of strings with a 'dd/mm/yyyy' format date, using indices, gather:\n",
    "- The day, the month and the year of each date."
   ]
  },
  {
   "cell_type": "code",
   "execution_count": null,
   "metadata": {},
   "outputs": [],
   "source": []
  },
  {
   "cell_type": "code",
   "execution_count": 12,
   "metadata": {},
   "outputs": [],
   "source": [
    "godfather = {\"name\": \"The Godfather\", \"year\": 1972, \"genre\": \"Drama\"}\n",
    "schindler = {\"name\": \"Schindler's List\", \"year\": 1993, \"genre\": \"Drama\"}\n",
    "angry = {\"name\": \"12 Angry Men\", \"year\": 1957, \"genre\": \"Drama\"}\n",
    "bella = {\"name\": \"La vita è bella\", \"year\": 1997, \"genre\": \"Comedy\"}\n",
    "good = {\"name\": \"The Good, the Bad and the Ugly\", \"year\": 1966, \"genre\": \" Western\"}\n",
    "shaw = {\"name\": \"Shawshank Redemption\", \"year\": 1994, \"genre\": \"Drama\"}\n",
    "seven = {\"name\": \"Seven Samurai\", \"year\": 1954, \"genre\": \" Adventure\"}\n",
    "netflix = [godfather, schindler, angry, bella, good, shaw, seven]"
   ]
  },
  {
   "cell_type": "markdown",
   "metadata": {},
   "source": [
    "- What is the year and the genre for the godfather?\n",
    "- How many movies are on our netflix playlist?\n",
    "- How many of the movies in our netflix playlist are Drama?\n",
    "- How many movies on our playlist are from before 1990?\n",
    "- Bonus: Which movie has the longest title?"
   ]
  },
  {
   "cell_type": "code",
   "execution_count": null,
   "metadata": {},
   "outputs": [],
   "source": []
  }
 ],
 "metadata": {
  "kernelspec": {
   "display_name": "Python 3",
   "language": "python",
   "name": "python3"
  },
  "language_info": {
   "codemirror_mode": {
    "name": "ipython",
    "version": 3
   },
   "file_extension": ".py",
   "mimetype": "text/x-python",
   "name": "python",
   "nbconvert_exporter": "python",
   "pygments_lexer": "ipython3",
   "version": "3.7.4"
  }
 },
 "nbformat": 4,
 "nbformat_minor": 2
}
