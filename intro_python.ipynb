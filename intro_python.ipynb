{
 "cells": [
  {
   "cell_type": "markdown",
   "metadata": {},
   "source": [
    "#### 1) Programming Language\n",
    "A language composed of a set of instructions, used to convey instructions to a computer. It is used to organize algorithms in a human comprehensible way, that will be compiled or interpreted into machine language (the core set of instructions of a processor.\n",
    "Python is a multiparadigm high level programming language."
   ]
  },
  {
   "cell_type": "markdown",
   "metadata": {},
   "source": [
    "#### 2) Data Type - Variables"
   ]
  },
  {
   "cell_type": "code",
   "execution_count": 2,
   "metadata": {
    "scrolled": true
   },
   "outputs": [
    {
     "name": "stdout",
     "output_type": "stream",
     "text": [
      "Hello World\n",
      "Hello World\n",
      "<class 'str'>\n",
      "<class 'list'> <class 'list'> <class 'list'>\n",
      "[]\n",
      "<class 'bool'> <class 'bool'>\n"
     ]
    }
   ],
   "source": [
    "# Print is a basic function used to display information on a console interface.\n",
    "print(\"Hello World\")\n",
    "\n",
    "# Variables are declared with their name and asigned with '=' sign.\n",
    "welcome = \"Hello World\"\n",
    "print(welcome)\n",
    "\n",
    "# Calling variables that were not declared will result in an error.\n",
    "# print(hola) # we get an error\n",
    "\n",
    "# The type() function allows us to check the type of a variable.\n",
    "print(type(welcome))\n",
    "\n",
    "# Lists are ordered groups of variables.\n",
    "numbers = [1, 2, 3, 4]\n",
    "strings = [\"a\", \"b\", \"c\", \"d\"]\n",
    "mixed = [1, \"a\", \"c\"]\n",
    "empty_list = []\n",
    "print(type(numbers), type(strings), type(mixed))\n",
    "print(empty_list)\n",
    "\n",
    "# Dictionaries are containers for {key:value} pairs. Keys may not repeat in the same dictionary\n",
    "grades_course = {\"ana\": 9, \"joaquin\": 8, \"leo\": 7}\n",
    "mixed_grades = {\"ana\": \"amazing\", \"joaquin\":8, \"leo\":7}\n",
    "all_year_grades = {\"ana\":[9,5,6,5], \"joaquin\":[6,7,5,7], \"leo\":[4,5,6,7]}\n",
    "grades = {10: \"Best grade\", 9: \"Second best grade\"}\n",
    "\n",
    "# Booleans: True, False\n",
    "type_true = type(True)\n",
    "type_false = type(False)\n",
    "\n",
    "print(type_true,type_false)"
   ]
  },
  {
   "cell_type": "markdown",
   "metadata": {},
   "source": [
    "#### 3) Basic Operations\n",
    "Each kind of data has a set of operations with which they may processed."
   ]
  },
  {
   "cell_type": "code",
   "execution_count": null,
   "metadata": {},
   "outputs": [],
   "source": []
  },
  {
   "cell_type": "markdown",
   "metadata": {},
   "source": [
    "#### 4) Loops\n"
   ]
  },
  {
   "cell_type": "code",
   "execution_count": 21,
   "metadata": {},
   "outputs": [
    {
     "name": "stdout",
     "output_type": "stream",
     "text": [
      "number: \n",
      "1\n",
      "number: \n",
      "2\n",
      "number: \n",
      "3\n",
      "number: \n",
      "4\n",
      "terminado\n",
      "[0, 50, 100]\n"
     ]
    }
   ],
   "source": [
    "\n",
    "# for loops\n",
    "\n",
    "my_list = [1, 2, 3, 4]\n",
    "\n",
    "\"\"\"print(my_list[0])\n",
    "print(my_list[1])\n",
    "print(my_list[2])\"\"\"\n",
    "\n",
    "for element in my_list:\n",
    "    print(\"number: \")\n",
    "    print(element)\n",
    "print(\"terminado\")\n",
    "\n",
    "# range range(start, stop, step)\n",
    "\n",
    "elements = []\n",
    "for e in range(0, 101, 50):\n",
    "    elements.append(e)\n",
    "print(elements)"
   ]
  },
  {
   "cell_type": "code",
   "execution_count": 27,
   "metadata": {},
   "outputs": [
    {
     "name": "stdout",
     "output_type": "stream",
     "text": [
      "1\n",
      "2\n",
      "3\n",
      "4\n",
      "5\n",
      "6\n",
      "finished\n"
     ]
    }
   ],
   "source": [
    "# while loops\n",
    "\n",
    "number = 0\n",
    "\n",
    "while number < 10:\n",
    "    number += 1\n",
    "    print(number)\n",
    "    if number > 5:\n",
    "        break\n",
    "    \n",
    "print(\"finished\")\n"
   ]
  },
  {
   "cell_type": "markdown",
   "metadata": {},
   "source": [
    "#### 5) Funciones - Bego"
   ]
  },
  {
   "cell_type": "code",
   "execution_count": 28,
   "metadata": {},
   "outputs": [
    {
     "name": "stdout",
     "output_type": "stream",
     "text": [
      "Welcome Paula, you are going to have a great time in Ironhack\n",
      "Welcome Irene, you are going to have a great time in Ironhack\n",
      "Welcome Paula, you are going to have a great time in Ironhack!\n",
      "Welcome Irene, you are going to have a great time in Ironhack!\n"
     ]
    }
   ],
   "source": [
    "print(\"Welcome Paula, you are going to have a great time in Ironhack\")\n",
    "print(\"Welcome Irene, you are going to have a great time in Ironhack\")\n",
    "\n",
    "def welcome(student):\n",
    "    greeting = \"Welcome \" + student + \", you are going to have a great time in Ironhack!\"\n",
    "    return greeting\n",
    "\n",
    "print(welcome(\"Paula\"))\n",
    "print(welcome(\"Irene\"))"
   ]
  },
  {
   "cell_type": "markdown",
   "metadata": {},
   "source": [
    "#### 6) Librerías - Felipe"
   ]
  },
  {
   "cell_type": "markdown",
   "metadata": {},
   "source": [
    "#### 7) Ejercicios"
   ]
  },
  {
   "cell_type": "markdown",
   "metadata": {},
   "source": [
    "nominas = [1900, 2000, 1800, 2400, 1700, 1950, 2000, 1806, 2400, 1700]\n",
    "\n",
    "- ¿Cuánto gasta la empresa en nóminas mensualmente? ¿Y de forma anual?\n",
    "- ¿Cuál es la nómina más alta? ¿y la más baja?\n",
    "- ¿Cuál es la media de las nóminas en la empresa?\n",
    "- Si las nóminas estuvieran en dólares y las quisiéramos en euros cuál sería la nueva lista de nóminas? 1 EUR = 1.09 DOL\n",
    "- Bonus: Pasa a dólares las nóminas de más de 2000 Euros solamente."
   ]
  },
  {
   "cell_type": "code",
   "execution_count": null,
   "metadata": {},
   "outputs": [],
   "source": []
  },
  {
   "cell_type": "markdown",
   "metadata": {},
   "source": [
    "fecha = \"10/03/2016\"\n",
    "- Obtén el día, mes y año de esta fecha\n",
    "- Dada una fecha en formato dd/mm/yy calcula el número de días que tiene ese mes. Puedes ignorar si es bisiesto o no.\n",
    "- Ahora pide la fecha al usuario mediante la función input() e imprime día, mes y año por consola.\n",
    "- Bonus: Reutiliza el código con una función que devuelva día, mes y año."
   ]
  },
  {
   "cell_type": "code",
   "execution_count": null,
   "metadata": {},
   "outputs": [],
   "source": []
  },
  {
   "cell_type": "markdown",
   "metadata": {},
   "source": [
    "padrino = {\"name\": \"El padrino\", \"year\": 1972, \"genre\": \"Drama\"}\n",
    "\n",
    "lista = {\"name\": \"La lista de Schindler\", \"year\": 1993, \"genre\": \"Drama\"}\n",
    "\n",
    "doce = {\"name\": \"12 hombres sin piedad\", \"year\": 1957, \"genre\": \"Drama\"}\n",
    "\n",
    "vida = {\"name\": \"La vida es bella\", \"year\": 1997, \"genre\": \"Comedy\"}\n",
    "\n",
    "bueno = {\"name\": \"El bueno, el feo y el malo\", \"year\": 1966, \"genre\": \" Western\"}\n",
    "\n",
    "cadena = {\"name\": \"Cadena perpetua\", \"year\": 1994, \"genre\": \"Drama\"}\n",
    "\n",
    "siete = {\"name\": \"Los siete samuráis\", \"year\": 1954, \"genre\": \" Adventure\"}\n",
    "\n",
    "netflix = [padrino, lista, doce, vida, bueno, cadena, siete]\n",
    "- Dime el año de estreno de \"el padrino\" y su género.\n",
    "- ¿Cuántas películas hay en nuestra playlist de Netflix?\n",
    "- ¿Cuántas películas de Drama hay en nuestra playlist de Netflix?\n",
    "- ¿Cuántas películas de Drama anteriores a 1990 hay en nuestra playlist de Netflix?\n",
    "- Bonus: ¿Cuál es el título con el nombre más largo?"
   ]
  },
  {
   "cell_type": "code",
   "execution_count": null,
   "metadata": {},
   "outputs": [],
   "source": []
  }
 ],
 "metadata": {
  "kernelspec": {
   "display_name": "Python 3",
   "language": "python",
   "name": "python3"
  },
  "language_info": {
   "codemirror_mode": {
    "name": "ipython",
    "version": 3
   },
   "file_extension": ".py",
   "mimetype": "text/x-python",
   "name": "python",
   "nbconvert_exporter": "python",
   "pygments_lexer": "ipython3",
   "version": "3.7.4"
  }
 },
 "nbformat": 4,
 "nbformat_minor": 2
}
